{
 "cells": [
  {
   "cell_type": "markdown",
   "id": "f096b40d",
   "metadata": {},
   "source": [
    "# Web Scrapping using AutoScraper"
   ]
  },
  {
   "cell_type": "markdown",
   "id": "cb112fe4",
   "metadata": {},
   "source": [
    "## .Installing and Importing AutoScrap"
   ]
  },
  {
   "cell_type": "code",
   "execution_count": 1,
   "id": "638d703b",
   "metadata": {},
   "outputs": [
    {
     "name": "stdout",
     "output_type": "stream",
     "text": [
      "Collecting autoscraper\n",
      "  Downloading autoscraper-1.1.12-py3-none-any.whl (10 kB)\n",
      "Collecting bs4\n",
      "  Downloading bs4-0.0.1.tar.gz (1.1 kB)\n",
      "Requirement already satisfied: requests in c:\\users\\pranjal chakraborty\\anaconda3\\lib\\site-packages (from autoscraper) (2.26.0)\n",
      "Requirement already satisfied: lxml in c:\\users\\pranjal chakraborty\\anaconda3\\lib\\site-packages (from autoscraper) (4.6.3)\n",
      "Requirement already satisfied: beautifulsoup4 in c:\\users\\pranjal chakraborty\\anaconda3\\lib\\site-packages (from bs4->autoscraper) (4.10.0)\n",
      "Requirement already satisfied: soupsieve>1.2 in c:\\users\\pranjal chakraborty\\anaconda3\\lib\\site-packages (from beautifulsoup4->bs4->autoscraper) (2.2.1)\n",
      "Requirement already satisfied: certifi>=2017.4.17 in c:\\users\\pranjal chakraborty\\anaconda3\\lib\\site-packages (from requests->autoscraper) (2021.10.8)\n",
      "Requirement already satisfied: charset-normalizer~=2.0.0 in c:\\users\\pranjal chakraborty\\anaconda3\\lib\\site-packages (from requests->autoscraper) (2.0.4)\n",
      "Requirement already satisfied: urllib3<1.27,>=1.21.1 in c:\\users\\pranjal chakraborty\\anaconda3\\lib\\site-packages (from requests->autoscraper) (1.26.7)\n",
      "Requirement already satisfied: idna<4,>=2.5 in c:\\users\\pranjal chakraborty\\anaconda3\\lib\\site-packages (from requests->autoscraper) (3.2)\n",
      "Building wheels for collected packages: bs4\n",
      "  Building wheel for bs4 (setup.py): started\n",
      "  Building wheel for bs4 (setup.py): finished with status 'done'\n",
      "  Created wheel for bs4: filename=bs4-0.0.1-py3-none-any.whl size=1271 sha256=b8bbc2ba55f2fa1f64c7093a8d793280aa548f9e54f3d4acf04a059411e6d55d\n",
      "  Stored in directory: c:\\users\\pranjal chakraborty\\appdata\\local\\pip\\cache\\wheels\\73\\2b\\cb\\099980278a0c9a3e57ff1a89875ec07bfa0b6fcbebb9a8cad3\n",
      "Successfully built bs4\n",
      "Installing collected packages: bs4, autoscraper\n",
      "Successfully installed autoscraper-1.1.12 bs4-0.0.1\n"
     ]
    }
   ],
   "source": [
    "!pip install autoscraper"
   ]
  },
  {
   "cell_type": "code",
   "execution_count": 21,
   "id": "de88d7d9",
   "metadata": {},
   "outputs": [],
   "source": [
    "from autoscraper import AutoScraper"
   ]
  },
  {
   "cell_type": "markdown",
   "id": "04a08fe8",
   "metadata": {},
   "source": [
    "## .Setting url and sample wanted list"
   ]
  },
  {
   "cell_type": "code",
   "execution_count": 22,
   "id": "91e4a2f4",
   "metadata": {},
   "outputs": [],
   "source": [
    "amazon_url=\"https://www.amazon.in/s?k=iphone\"\n",
    "wanted_list=['₹59,999','Apple iPhone 12 (128GB) - Blue','4,322']"
   ]
  },
  {
   "cell_type": "markdown",
   "id": "c4ce18a1",
   "metadata": {},
   "source": [
    "## .Initializing autoscrap and building to create objects"
   ]
  },
  {
   "cell_type": "code",
   "execution_count": 23,
   "id": "9a7c9fe2",
   "metadata": {},
   "outputs": [
    {
     "name": "stdout",
     "output_type": "stream",
     "text": [
      "['₹80,990', '₹89,900', '₹1,16,900', '₹1,19,900', '₹42,999', '₹52,900', '₹59,999', '₹70,900', '₹46,900', '₹48,900', '₹59,490', '₹64,900', '₹1,36,900', '₹1,39,900', '₹71,990', '₹79,900', '₹74,900', '₹54,999', '₹65,900', '₹41,900', '₹43,900', '₹72,990', 'Apple iPhone 13 (256 GB) - Green', 'Apple iPhone 13 Pro (128GB) - Sierra Blue', 'Apple iPhone XR (128GB) - Coral', 'Apple iPhone 12 (128GB) - Blue', 'Apple iPhone 13 (256GB) - Blue', 'Apple iPhone SE (128 GB) - Midnight (3rd Generation)', 'Apple iPhone 12 Mini (128GB) - Purple', 'Apple iPhone 13 Pro Max (256GB) - Sierra Blue', 'Apple iPhone 13 (128GB) - Pink', 'Apple iPhone 12 Mini (128GB) - Blue', 'Apple iPhone 12 (64GB) - (Product) RED', 'Apple iPhone 13 (128GB) - Starlight', 'Apple iPhone 13 (128GB) - Midnight', 'Apple iPhone 13 (256GB) - Pink', 'Apple iPhone SE (64 GB) - (Product) RED (3rd Generation)', 'Apple iPhone 13 (128GB) - Green', '6,597', '654', '7,499', '4,322', '115', '6,714', '783', '345']\n"
     ]
    }
   ],
   "source": [
    "scraper=AutoScraper()\n",
    "result=scraper.build(amazon_url,wanted_list)\n",
    "print(result)"
   ]
  },
  {
   "cell_type": "markdown",
   "id": "71fd8141",
   "metadata": {},
   "source": [
    "## .Grouping our data"
   ]
  },
  {
   "cell_type": "code",
   "execution_count": 24,
   "id": "a2a05227",
   "metadata": {},
   "outputs": [
    {
     "data": {
      "text/plain": [
       "{'rule_9ro9': ['₹80,990',\n",
       "  '₹89,900',\n",
       "  '₹1,16,900',\n",
       "  '₹1,19,900',\n",
       "  '₹42,999',\n",
       "  '₹52,900',\n",
       "  '₹59,999',\n",
       "  '₹70,900',\n",
       "  '₹80,990',\n",
       "  '₹89,900',\n",
       "  '₹46,900',\n",
       "  '₹48,900',\n",
       "  '₹59,490',\n",
       "  '₹64,900',\n",
       "  '₹1,36,900',\n",
       "  '₹1,39,900',\n",
       "  '₹71,990',\n",
       "  '₹79,900',\n",
       "  '₹59,490',\n",
       "  '₹74,900',\n",
       "  '₹54,999',\n",
       "  '₹65,900',\n",
       "  '₹71,990',\n",
       "  '₹79,900',\n",
       "  '₹71,990',\n",
       "  '₹79,900',\n",
       "  '₹80,990',\n",
       "  '₹89,900',\n",
       "  '₹41,900',\n",
       "  '₹43,900',\n",
       "  '₹72,990',\n",
       "  '₹79,900'],\n",
       " 'rule_fybg': ['₹80,990',\n",
       "  '₹89,900',\n",
       "  '₹1,16,900',\n",
       "  '₹1,19,900',\n",
       "  '₹42,999',\n",
       "  '₹52,900',\n",
       "  '₹59,999',\n",
       "  '₹70,900',\n",
       "  '₹80,990',\n",
       "  '₹89,900',\n",
       "  '₹46,900',\n",
       "  '₹48,900',\n",
       "  '₹59,490',\n",
       "  '₹64,900',\n",
       "  '₹1,36,900',\n",
       "  '₹1,39,900',\n",
       "  '₹71,990',\n",
       "  '₹79,900',\n",
       "  '₹59,490',\n",
       "  '₹74,900',\n",
       "  '₹54,999',\n",
       "  '₹65,900',\n",
       "  '₹71,990',\n",
       "  '₹79,900',\n",
       "  '₹71,990',\n",
       "  '₹79,900',\n",
       "  '₹80,990',\n",
       "  '₹89,900',\n",
       "  '₹41,900',\n",
       "  '₹43,900',\n",
       "  '₹72,990',\n",
       "  '₹79,900'],\n",
       " 'rule_1iel': ['Apple iPhone 13 (256 GB) - Green',\n",
       "  'Apple iPhone 13 Pro (128GB) - Sierra Blue',\n",
       "  'Apple iPhone XR (128GB) - Coral',\n",
       "  'Apple iPhone 12 (128GB) - Blue',\n",
       "  'Apple iPhone 13 (256GB) - Blue',\n",
       "  'Apple iPhone SE (128 GB) - Midnight (3rd Generation)',\n",
       "  'Apple iPhone 12 Mini (128GB) - Purple',\n",
       "  'Apple iPhone 13 Pro Max (256GB) - Sierra Blue',\n",
       "  'Apple iPhone 13 (128GB) - Pink',\n",
       "  'Apple iPhone 12 Mini (128GB) - Blue',\n",
       "  'Apple iPhone 12 (64GB) - (Product) RED',\n",
       "  'Apple iPhone 13 (128GB) - Starlight',\n",
       "  'Apple iPhone 13 (128GB) - Midnight',\n",
       "  'Apple iPhone 13 (256GB) - Pink',\n",
       "  'Apple iPhone SE (64 GB) - (Product) RED (3rd Generation)',\n",
       "  'Apple iPhone 13 (128GB) - Green'],\n",
       " 'rule_j6ab': ['Apple iPhone 13 (256 GB) - Green',\n",
       "  'Apple iPhone 13 Pro (128GB) - Sierra Blue',\n",
       "  'Apple iPhone XR (128GB) - Coral',\n",
       "  'Apple iPhone 12 (128GB) - Blue',\n",
       "  'Apple iPhone 13 (256GB) - Blue',\n",
       "  'Apple iPhone SE (128 GB) - Midnight (3rd Generation)',\n",
       "  'Apple iPhone 12 Mini (128GB) - Purple',\n",
       "  'Apple iPhone 13 Pro Max (256GB) - Sierra Blue',\n",
       "  'Apple iPhone 13 (128GB) - Pink',\n",
       "  'Apple iPhone 12 Mini (128GB) - Blue',\n",
       "  'Apple iPhone 12 (64GB) - (Product) RED',\n",
       "  'Apple iPhone 13 (128GB) - Starlight',\n",
       "  'Apple iPhone 13 (128GB) - Midnight',\n",
       "  'Apple iPhone 13 (256GB) - Pink',\n",
       "  'Apple iPhone SE (64 GB) - (Product) RED (3rd Generation)',\n",
       "  'Apple iPhone 13 (128GB) - Green'],\n",
       " 'rule_q7sx': ['6,597',\n",
       "  '654',\n",
       "  '7,499',\n",
       "  '4,322',\n",
       "  '6,597',\n",
       "  '115',\n",
       "  '6,714',\n",
       "  '783',\n",
       "  '6,597',\n",
       "  '6,714',\n",
       "  '345',\n",
       "  '6,597',\n",
       "  '6,597',\n",
       "  '6,597',\n",
       "  '115',\n",
       "  '6,597']}"
      ]
     },
     "execution_count": 24,
     "metadata": {},
     "output_type": "execute_result"
    }
   ],
   "source": [
    "scraper.get_result_similar(amazon_url,grouped=True)"
   ]
  },
  {
   "cell_type": "markdown",
   "id": "24e82971",
   "metadata": {},
   "source": [
    "## .Setting aliases and rules for scrapping"
   ]
  },
  {
   "cell_type": "code",
   "execution_count": 25,
   "id": "b811a7c3",
   "metadata": {},
   "outputs": [],
   "source": [
    "scraper.set_rule_aliases({'rule_1iel':'Title','rule_fybg':'Price'})\n",
    "scraper.keep_rules(['rule_1iel','rule_fybg'])\n",
    "scraper.save('amazon-search')"
   ]
  },
  {
   "cell_type": "markdown",
   "id": "d33f460d",
   "metadata": {},
   "source": [
    "## .Finding scraps from different pages using the above grouping methods"
   ]
  },
  {
   "cell_type": "code",
   "execution_count": 29,
   "id": "1764b73e",
   "metadata": {},
   "outputs": [],
   "source": [
    "results=scraper.get_result_similar('https://www.amazon.in/s?k=laptops',group_by_alias=True)"
   ]
  },
  {
   "cell_type": "code",
   "execution_count": 30,
   "id": "c4892033",
   "metadata": {},
   "outputs": [
    {
     "data": {
      "text/plain": [
       "['ASUS VivoBook 15 (2021), 15.6-inch (39.62 cm) HD, Dual Core Intel Celeron N4020, Thin and Light Laptop (4GB RAM/256GB SSD/Integrated Graphics/Windows 11 Home/Transparent Silver/1.8 Kg), X515MA-BR011W',\n",
       " 'Acer Extensa E215-54 Ci3-1115G4/11th gen/8Gb/256gb SSD/MS-OFFICE/15.6 FHD/Win 11 HSL/Camera/Bluetooth/Wi-Fi/Black Color/1 Year Warranty',\n",
       " \"Lenovo IdeaPad Slim 3 Intel Celeron N4020 14'' (35.56cm) HD Thin & Light Laptop (4GB/256GB SSD/Windows 11/MS Office 2021/2Yr Warranty/3months Game Pass/Platinum Grey/1.5Kg), 81WH007KIN\",\n",
       " 'HP 247 G8 Laptop (Athlon P-3045B HD/ 14 inch(35.56 cms) /8GB RAM DDR4 /1TB HDD / W11 SL)One Year Warranty, Black, 67U77PA)',\n",
       " 'HP 15s-11th Gen Intel Core i3 15.6 Inches Laptop (8GB RAM/512GB SSD, FHD, Micro-Edge, Anti-Glare Display UHD Graphics/Alexa/Windows 11/ Dual Speakers/Fast Charge/Win 11/MS Office) 15s- fr2508TU',\n",
       " \"Lenovo IdeaPad Slim 1 Intel Celeron N4020 11.6'' (29.46cm) HD Thin & Light Laptop (4GB/256GB SSD/Windows 11/Office 2021/3months Game Pass/Platinum Grey/1.2Kg), 81VT009UIN\",\n",
       " 'HP 15- AMD Ryzen 3-3250 15.6 inch(39.6 cm) FHD,Thin & Light Laptop (8 GB RAM/1TB HDD + 256GB SSD/Windows 10/MS Office) 1.82kg (15s-gr0012AU), Silver',\n",
       " \"Dell New Inspiron 3525 Laptop, AMD Athlon Silver 3050U, Windows 11 + Office'21, 8Gb Gddr4, 256Gb Ssd, Radeon Graphics, 15.6 Inches (39.62Cms) Hd Anti Glare (D560766Win9Be, 1.68Kgs)\",\n",
       " 'Acer Aspire 3 AMD Ryzen 3 3250U Processor 15.6\" (39.6 cms) Full HD Laptop - (4 GB/512 GB SSD/Windows 11 Home/AMD Radeon Graphics /1.9Kg/Silver) A315-23',\n",
       " 'Acer Aspire 3 AMD 3020e Dual core Processor 14 inches (35.5 cm) Laptop (4GB RAM/256GB SSD/Windows 11 Home/Black/1.9 Kg, A314-22)',\n",
       " 'HP Chromebook 14A G5, AMD A4 14-inch(35.6 cm) HD(1366 x 768), Anti-Glare Display (4GB RAM/32GB eMMC/Chrome OS/Chalkboard Gray/1.57 Kg) - 7QU82PA',\n",
       " 'Lenovo IdeaPad Slim 3 Intel Celeron N4020 15.6\" (39.62cm) HD Thin & Light Laptop (8GB/256GB SSD/Windows 11/Office 2021/2Yr Warranty/3months Game Pass/Platinum Grey/1.7Kg), 81WQ00MQIN',\n",
       " 'Hp 15S 11Th Gen Intel Core I5 15.6 Inches Fhd Anti-Glare Display Laptop (8Gb Ram/512Gb Ssd Micro-Edge/Iris Xe Graphics/Backlit Keyboard/Windows 11 Home/Alexa/Dual Speakers/Mso, 15S- Fq4021Tu, 1.69Kg)',\n",
       " 'Honor MagicBook X 15, Intel Core i3-10110U / 15.6 inch (39.62 cm) FHD IPS Anti-Glare Thin and Light Laptop (8GB/256GB PCIe SSD/Windows 10/Aluminium Metal Body/1.56Kg), Silver, (BohrBR-WAI9A)',\n",
       " 'Best sellerin Traditional Laptops',\n",
       " 'Hp 14S 11Th Gen Intel Core I3- 8Gb Ram/256Gb Ssd 14 Inches Fhd,Micro-Edge,Anti-Glare,IPS Display/Uhd Graphics/ Windows 11 Home/ Ms Office/ Alexa Built-in/ 1.46Kg/ Natural Silver - 14S-Dy2506Tu',\n",
       " 'Hp 14S, 11Th Gen Intel Core I3, 8Gb Ram/512Gb Ssd 14 Inches (35.6 cm) Fhd,Micro-Edge, IPS Display/Alexa Built-in/Windows 11 Home/Backlit Keyboard/Uhd Graphics/Dual Speakers/Ms Office, 14S-Dq2606Tu']"
      ]
     },
     "execution_count": 30,
     "metadata": {},
     "output_type": "execute_result"
    }
   ],
   "source": [
    "results['Title']"
   ]
  },
  {
   "cell_type": "code",
   "execution_count": 31,
   "id": "057abeab",
   "metadata": {},
   "outputs": [
    {
     "data": {
      "text/plain": [
       "['₹25,990',\n",
       " '₹33,990',\n",
       " '₹35,999',\n",
       " '₹79,999',\n",
       " '₹28,500',\n",
       " '₹40,490',\n",
       " '₹28,840',\n",
       " '₹32,212',\n",
       " '₹40,845',\n",
       " '₹51,748',\n",
       " '₹22,990',\n",
       " '₹34,890',\n",
       " '₹38,999',\n",
       " '₹48,294',\n",
       " '₹29,490',\n",
       " '₹46,236',\n",
       " '₹29,490',\n",
       " '₹42,999',\n",
       " '₹24,990',\n",
       " '₹34,999',\n",
       " '₹16,390',\n",
       " '₹27,668',\n",
       " '₹28,980',\n",
       " '₹40,490',\n",
       " '₹52,490',\n",
       " '₹66,180',\n",
       " '₹32,990',\n",
       " '₹49,999',\n",
       " '₹36,990',\n",
       " '₹48,933',\n",
       " '₹40,990',\n",
       " '₹52,900']"
      ]
     },
     "execution_count": 31,
     "metadata": {},
     "output_type": "execute_result"
    }
   ],
   "source": [
    "results['Price']"
   ]
  },
  {
   "cell_type": "code",
   "execution_count": null,
   "id": "419bd6bd",
   "metadata": {},
   "outputs": [],
   "source": []
  }
 ],
 "metadata": {
  "kernelspec": {
   "display_name": "Python 3 (ipykernel)",
   "language": "python",
   "name": "python3"
  },
  "language_info": {
   "codemirror_mode": {
    "name": "ipython",
    "version": 3
   },
   "file_extension": ".py",
   "mimetype": "text/x-python",
   "name": "python",
   "nbconvert_exporter": "python",
   "pygments_lexer": "ipython3",
   "version": "3.9.7"
  }
 },
 "nbformat": 4,
 "nbformat_minor": 5
}
